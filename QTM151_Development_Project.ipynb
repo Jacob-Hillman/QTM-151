{
 "cells": [
  {
   "cell_type": "code",
   "execution_count": null,
   "metadata": {},
   "outputs": [],
   "source": [
    "import matplotlib.pyplot as plt\n",
    "import pandas as pd"
   ]
  },
  {
   "cell_type": "code",
   "execution_count": null,
   "metadata": {},
   "outputs": [],
   "source": [
    "cpr= pd.read_csv(\"data/cpr.csv\")"
   ]
  },
  {
   "cell_type": "code",
   "execution_count": null,
   "metadata": {},
   "outputs": [],
   "source": [
    "cpr_filtered = cpr[cpr['country'].isin(['South Korea', 'China', 'Taiwan'])]\n",
    "cpr_filtered.head()"
   ]
  },
  {
   "cell_type": "code",
   "execution_count": null,
   "metadata": {},
   "outputs": [],
   "source": [
    "cpr_filtered_2 = cpr_filtered.filter(regex='country|year|mean')\n",
    "\n",
    "cpr_filtered_2.head"
   ]
  },
  {
   "cell_type": "code",
   "execution_count": null,
   "metadata": {},
   "outputs": [],
   "source": [
    "# Create two subplots side by side\n",
    "fig, ax = plt.subplots(1, 2, figsize=(12, 6))\n",
    "fig.suptitle(\"Trends in Extrajudicial Killing and Right to Assembly Over Time in East Asia\", fontsize=16)\n",
    "\n",
    "# Plot 1\n",
    "for country, group in cpr_filtered_2.groupby(\"country\"):\n",
    "    ax[0].plot(group[\"year\"], group[\"assem_mean\"], marker='o', label=country)\n",
    "\n",
    "\n",
    "ax[0].set_title(\"Assembly Mean Over Time by Country\")\n",
    "ax[0].set_xlabel(\"Year\")\n",
    "ax[0].set_ylabel(\"Assembly Mean\")\n",
    "ax[0].legend(title=\"Country\")\n",
    "ax[0].grid(True)\n",
    "\n",
    "# Plot 2\n",
    "for country, group in cpr_filtered_2.groupby(\"country\"):\n",
    "    ax[1].plot(group[\"year\"], group[\"exkill_mean\"], marker='o', label=country)\n",
    "\n",
    "ax[1].set_title(\"Exkill Mean Over Time by Country\")\n",
    "ax[1].set_xlabel(\"Year\")\n",
    "ax[1].set_ylabel(\"Exkill Mean\")\n",
    "ax[1].legend(title=\"Country\")\n",
    "ax[1].grid(True)\n",
    "\n",
    "# Adjust layout to avoid overlap with suptitle\n",
    "plt.tight_layout()\n",
    "plt.subplots_adjust(top=0.88)  # Make room for the suptitle\n",
    "\n",
    "# Show the figure\n",
    "plt.show()\n"
   ]
  },
  {
   "cell_type": "markdown",
   "metadata": {},
   "source": [
    "An insight here is that freedom of assembly is positively correlated with extrajudicial killings in east asia. We can also see that as freedom of assembly has decreased in South Korea, so has the level of extrajudical killing. Countries with more authoritarian governance such as China tend to have more centrally controlled societies. This lends itself to reduced right to freedom of assembly, because these authoritarian governments want to keep a stronger grip on power. It also lends itself to fewer extrajudicial killings, because the powerful central government has fewer checks in place to stop it from making the judicial system into a tool for maintaining the regime's hold on power. This means that all suspected criminals and dissenters can be forced through the courts without due process, thereby reducing crime and reducing the need for government sponsored extrajudicial killings."
   ]
  }
 ],
 "metadata": {
  "language_info": {
   "name": "python"
  }
 },
 "nbformat": 4,
 "nbformat_minor": 2
}
